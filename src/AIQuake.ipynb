{
 "cells": [
  {
   "cell_type": "markdown",
   "metadata": {},
   "source": [
    "### 0. Import Required Libraries"
   ]
  },
  {
   "cell_type": "code",
   "execution_count": 2,
   "metadata": {},
   "outputs": [
    {
     "name": "stdout",
     "output_type": "stream",
     "text": [
      "Intel MKL WARNING: Support of Intel(R) Streaming SIMD Extensions 4.2 (Intel(R) SSE4.2) enabled only processors has been deprecated. Intel oneAPI Math Kernel Library 2025.0 will require Intel(R) Advanced Vector Extensions (Intel(R) AVX) instructions.\n",
      "Intel MKL WARNING: Support of Intel(R) Streaming SIMD Extensions 4.2 (Intel(R) SSE4.2) enabled only processors has been deprecated. Intel oneAPI Math Kernel Library 2025.0 will require Intel(R) Advanced Vector Extensions (Intel(R) AVX) instructions.\n"
     ]
    }
   ],
   "source": [
    "%matplotlib inline\n",
    "from pathlib import Path\n",
    "import numpy as np\n",
    "import pandas as pd\n",
    "import matplotlib.pyplot as plt\n",
    "import seaborn as sns"
   ]
  },
  {
   "cell_type": "markdown",
   "metadata": {},
   "source": [
    "## 1. Loading Data"
   ]
  },
  {
   "cell_type": "code",
   "execution_count": 3,
   "metadata": {},
   "outputs": [],
   "source": [
    "df_test = pd.read_csv('../data/test_values.csv')\n",
    "df_train = pd.read_csv('../data/train_values.csv')\n",
    "df_label = pd.read_csv('../data/train_labels.csv')"
   ]
  },
  {
   "cell_type": "code",
   "execution_count": 4,
   "metadata": {},
   "outputs": [
    {
     "name": "stdout",
     "output_type": "stream",
     "text": [
      "(260601, 39)\n",
      "(260601, 2)\n",
      "(86868, 39)\n"
     ]
    }
   ],
   "source": [
    "print(df_train.shape)\n",
    "print(df_label.shape)\n",
    "print(df_test.shape)"
   ]
  },
  {
   "cell_type": "markdown",
   "metadata": {},
   "source": [
    "## 2. Data Preparation"
   ]
  },
  {
   "cell_type": "markdown",
   "metadata": {},
   "source": [
    "### 2.1. Data Cleaning"
   ]
  },
  {
   "cell_type": "code",
   "execution_count": 7,
   "metadata": {},
   "outputs": [
    {
     "name": "stdout",
     "output_type": "stream",
     "text": [
      "                                       Data type  Any nulls?  Unique values\n",
      "building_id                                int64       False         260601\n",
      "geo_level_1_id                             int64       False             31\n",
      "geo_level_2_id                             int64       False           1414\n",
      "geo_level_3_id                             int64       False          11595\n",
      "count_floors_pre_eq                        int64       False              9\n",
      "age                                        int64       False             42\n",
      "area_percentage                            int64       False             84\n",
      "height_percentage                          int64       False             27\n",
      "land_surface_condition                    object       False              3\n",
      "foundation_type                           object       False              5\n",
      "roof_type                                 object       False              3\n",
      "ground_floor_type                         object       False              5\n",
      "other_floor_type                          object       False              4\n",
      "position                                  object       False              4\n",
      "plan_configuration                        object       False             10\n",
      "has_superstructure_adobe_mud               int64       False              2\n",
      "has_superstructure_mud_mortar_stone        int64       False              2\n",
      "has_superstructure_stone_flag              int64       False              2\n",
      "has_superstructure_cement_mortar_stone     int64       False              2\n",
      "has_superstructure_mud_mortar_brick        int64       False              2\n",
      "has_superstructure_cement_mortar_brick     int64       False              2\n",
      "has_superstructure_timber                  int64       False              2\n",
      "has_superstructure_bamboo                  int64       False              2\n",
      "has_superstructure_rc_non_engineered       int64       False              2\n",
      "has_superstructure_rc_engineered           int64       False              2\n",
      "has_superstructure_other                   int64       False              2\n",
      "legal_ownership_status                    object       False              4\n",
      "count_families                             int64       False             10\n",
      "has_secondary_use                          int64       False              2\n",
      "has_secondary_use_agriculture              int64       False              2\n",
      "has_secondary_use_hotel                    int64       False              2\n",
      "has_secondary_use_rental                   int64       False              2\n",
      "has_secondary_use_institution              int64       False              2\n",
      "has_secondary_use_school                   int64       False              2\n",
      "has_secondary_use_industry                 int64       False              2\n",
      "has_secondary_use_health_post              int64       False              2\n",
      "has_secondary_use_gov_office               int64       False              2\n",
      "has_secondary_use_use_police               int64       False              2\n",
      "has_secondary_use_other                    int64       False              2\n"
     ]
    }
   ],
   "source": [
    "df_train_summary = pd.DataFrame({\n",
    "    \"Data type\": df_train.dtypes,\n",
    "    \"Any nulls?\": df_train.isnull().any(),\n",
    "    \"Unique values\": df_train.nunique()\n",
    "})\n",
    "print(df_train_summary)"
   ]
  },
  {
   "cell_type": "markdown",
   "metadata": {},
   "source": [
    "Since there is no null, no data cleaning yet. (for rows)"
   ]
  },
  {
   "cell_type": "markdown",
   "metadata": {},
   "source": [
    "### 2.2. Dropping Columns"
   ]
  },
  {
   "cell_type": "code",
   "execution_count": 5,
   "metadata": {},
   "outputs": [
    {
     "name": "stdout",
     "output_type": "stream",
     "text": [
      "Index(['land_surface_condition', 'foundation_type', 'roof_type',\n",
      "       'ground_floor_type', 'other_floor_type', 'position',\n",
      "       'plan_configuration', 'legal_ownership_status'],\n",
      "      dtype='object')\n"
     ]
    }
   ],
   "source": [
    "columns_with_objects = df_train.select_dtypes(include=['object']).columns\n",
    "print(columns_with_objects)"
   ]
  },
  {
   "cell_type": "code",
   "execution_count": 9,
   "metadata": {},
   "outputs": [],
   "source": [
    "import preprocess as pp\n",
    "\n",
    "df_numerical = pp.drop_columns(df_train, columns_with_objects)"
   ]
  },
  {
   "cell_type": "code",
   "execution_count": 15,
   "metadata": {},
   "outputs": [
    {
     "name": "stdout",
     "output_type": "stream",
     "text": [
      "<class 'pandas.core.frame.DataFrame'>\n",
      "RangeIndex: 260601 entries, 0 to 260600\n",
      "Data columns (total 31 columns):\n",
      " #   Column                                  Non-Null Count   Dtype\n",
      "---  ------                                  --------------   -----\n",
      " 0   building_id                             260601 non-null  int64\n",
      " 1   geo_level_1_id                          260601 non-null  int64\n",
      " 2   geo_level_2_id                          260601 non-null  int64\n",
      " 3   geo_level_3_id                          260601 non-null  int64\n",
      " 4   count_floors_pre_eq                     260601 non-null  int64\n",
      " 5   age                                     260601 non-null  int64\n",
      " 6   area_percentage                         260601 non-null  int64\n",
      " 7   height_percentage                       260601 non-null  int64\n",
      " 8   has_superstructure_adobe_mud            260601 non-null  int64\n",
      " 9   has_superstructure_mud_mortar_stone     260601 non-null  int64\n",
      " 10  has_superstructure_stone_flag           260601 non-null  int64\n",
      " 11  has_superstructure_cement_mortar_stone  260601 non-null  int64\n",
      " 12  has_superstructure_mud_mortar_brick     260601 non-null  int64\n",
      " 13  has_superstructure_cement_mortar_brick  260601 non-null  int64\n",
      " 14  has_superstructure_timber               260601 non-null  int64\n",
      " 15  has_superstructure_bamboo               260601 non-null  int64\n",
      " 16  has_superstructure_rc_non_engineered    260601 non-null  int64\n",
      " 17  has_superstructure_rc_engineered        260601 non-null  int64\n",
      " 18  has_superstructure_other                260601 non-null  int64\n",
      " 19  count_families                          260601 non-null  int64\n",
      " 20  has_secondary_use                       260601 non-null  int64\n",
      " 21  has_secondary_use_agriculture           260601 non-null  int64\n",
      " 22  has_secondary_use_hotel                 260601 non-null  int64\n",
      " 23  has_secondary_use_rental                260601 non-null  int64\n",
      " 24  has_secondary_use_institution           260601 non-null  int64\n",
      " 25  has_secondary_use_school                260601 non-null  int64\n",
      " 26  has_secondary_use_industry              260601 non-null  int64\n",
      " 27  has_secondary_use_health_post           260601 non-null  int64\n",
      " 28  has_secondary_use_gov_office            260601 non-null  int64\n",
      " 29  has_secondary_use_use_police            260601 non-null  int64\n",
      " 30  has_secondary_use_other                 260601 non-null  int64\n",
      "dtypes: int64(31)\n",
      "memory usage: 61.6 MB\n"
     ]
    }
   ],
   "source": [
    "df_numerical.info()"
   ]
  },
  {
   "cell_type": "markdown",
   "metadata": {},
   "source": [
    "### 2.3. Encoding"
   ]
  },
  {
   "cell_type": "markdown",
   "metadata": {},
   "source": [
    "NO ENCODING YET V1"
   ]
  },
  {
   "cell_type": "code",
   "execution_count": 4,
   "metadata": {},
   "outputs": [],
   "source": [
    "import encoding_category as ec\n",
    "train_ec, test_ec = ec.encode_cat(df_train, df_test)"
   ]
  },
  {
   "cell_type": "code",
   "execution_count": null,
   "metadata": {},
   "outputs": [],
   "source": [
    "test_ec.info()"
   ]
  },
  {
   "cell_type": "markdown",
   "metadata": {},
   "source": [
    "## 3. Modeling: Selection and Implementation"
   ]
  },
  {
   "cell_type": "code",
   "execution_count": 19,
   "metadata": {},
   "outputs": [
    {
     "data": {
      "text/plain": [
       "0.5664319564091249"
      ]
     },
     "execution_count": 19,
     "metadata": {},
     "output_type": "execute_result"
    }
   ],
   "source": [
    "from sklearn.ensemble import RandomForestClassifier\n",
    "from sklearn.model_selection import train_test_split\n",
    "from sklearn.metrics import mean_absolute_error\n",
    "\n",
    "# Test-train split\n",
    "X_train, X_test, y_train, y_test = train_test_split(df_numerical, df_label[\"damage_grade\"], test_size=0.2, random_state=42)\n",
    "\n",
    "# With out numerical data frame \"df_numerical\" we want to implement a random forest model\n",
    "rf_model = RandomForestClassifier(criterion='gini',n_estimators=150,max_depth=4,n_jobs=-1)\n",
    "rf_model.fit(X_train, y_train)\n",
    "\n",
    "# Predictions\n",
    "preds = rf_model.predict(X_test)\n",
    "\n",
    "# Evaluate the model\n",
    "score = mean_absolute_error(y_test, preds)\n",
    "\n",
    "# We want to evaluate our model with micro average f1 score\n",
    "from sklearn.metrics import f1_score\n",
    "f1_score(y_test, preds, average='micro')"
   ]
  },
  {
   "cell_type": "code",
   "execution_count": 24,
   "metadata": {},
   "outputs": [
    {
     "data": {
      "text/plain": [
       "Counter({2: 52075, 1: 46})"
      ]
     },
     "execution_count": 24,
     "metadata": {},
     "output_type": "execute_result"
    }
   ],
   "source": [
    "# We want to see how many times our model predicted each class\n",
    "from collections import Counter\n",
    "Counter(preds)"
   ]
  },
  {
   "cell_type": "markdown",
   "metadata": {},
   "source": [
    "## 4. Evaluation"
   ]
  },
  {
   "cell_type": "markdown",
   "metadata": {},
   "source": [
    "## 5. Predictions Output"
   ]
  },
  {
   "cell_type": "code",
   "execution_count": null,
   "metadata": {},
   "outputs": [],
   "source": []
  }
 ],
 "metadata": {
  "kernelspec": {
   "display_name": "Python 3",
   "language": "python",
   "name": "python3"
  },
  "language_info": {
   "codemirror_mode": {
    "name": "ipython",
    "version": 3
   },
   "file_extension": ".py",
   "mimetype": "text/x-python",
   "name": "python",
   "nbconvert_exporter": "python",
   "pygments_lexer": "ipython3",
   "version": "3.11.5"
  },
  "orig_nbformat": 4
 },
 "nbformat": 4,
 "nbformat_minor": 2
}
