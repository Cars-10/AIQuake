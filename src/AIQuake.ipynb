{
 "cells": [
  {
   "cell_type": "code",
   "execution_count": 12,
   "metadata": {},
   "outputs": [],
   "source": [
    "%matplotlib inline\n",
    "from pathlib import Path\n",
    "import numpy as np\n",
    "import pandas as pd\n",
    "import matplotlib.pyplot as plt\n",
    "import seaborn as sns"
   ]
  },
  {
   "cell_type": "markdown",
   "metadata": {},
   "source": []
  },
  {
   "cell_type": "code",
   "execution_count": 13,
   "metadata": {},
   "outputs": [],
   "source": [
    "df_test = pd.read_csv('../data/test_values.csv')\n",
    "df_train = pd.read_csv('../data/train_values.csv')\n",
    "df_label = pd.read_csv('../data/train_labels.csv')"
   ]
  },
  {
   "cell_type": "code",
   "execution_count": null,
   "metadata": {},
   "outputs": [],
   "source": [
    "#df_test.info()\n",
    "#df_train.info()\n",
    "df_label.info()\n",
    "df_label.head()\n"
   ]
  },
  {
   "cell_type": "code",
   "execution_count": 17,
   "metadata": {},
   "outputs": [
    {
     "ename": "AttributeError",
     "evalue": "module 'encoding_category' has no attribute 'encode_cat'",
     "output_type": "error",
     "traceback": [
      "\u001b[0;31m---------------------------------------------------------------------------\u001b[0m",
      "\u001b[0;31mAttributeError\u001b[0m                            Traceback (most recent call last)",
      "\u001b[1;32m/Users/carstenlawrenz/GIT/AIQuake/src/AIQuake.ipynb Cell 5\u001b[0m line \u001b[0;36m2\n\u001b[1;32m      <a href='vscode-notebook-cell:/Users/carstenlawrenz/GIT/AIQuake/src/AIQuake.ipynb#W6sZmlsZQ%3D%3D?line=0'>1</a>\u001b[0m \u001b[39mimport\u001b[39;00m \u001b[39mencoding_category\u001b[39;00m \u001b[39mas\u001b[39;00m \u001b[39mec\u001b[39;00m\n\u001b[0;32m----> <a href='vscode-notebook-cell:/Users/carstenlawrenz/GIT/AIQuake/src/AIQuake.ipynb#W6sZmlsZQ%3D%3D?line=1'>2</a>\u001b[0m train_ec, test_ec \u001b[39m=\u001b[39m ec\u001b[39m.\u001b[39;49mencode_cat(df_train, df_test)\n",
      "\u001b[0;31mAttributeError\u001b[0m: module 'encoding_category' has no attribute 'encode_cat'"
     ]
    }
   ],
   "source": [
    "import encoding_category as ec\n",
    "train_ec, test_ec = ec.encode_cat(df_train, df_test)\n"
   ]
  }
 ],
 "metadata": {
  "kernelspec": {
   "display_name": "Python 3",
   "language": "python",
   "name": "python3"
  },
  "language_info": {
   "codemirror_mode": {
    "name": "ipython",
    "version": 3
   },
   "file_extension": ".py",
   "mimetype": "text/x-python",
   "name": "python",
   "nbconvert_exporter": "python",
   "pygments_lexer": "ipython3",
   "version": "3.11.5"
  },
  "orig_nbformat": 4
 },
 "nbformat": 4,
 "nbformat_minor": 2
}
