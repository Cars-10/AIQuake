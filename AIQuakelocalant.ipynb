{
 "cells": [
  {
   "cell_type": "code",
   "execution_count": null,
   "metadata": {},
   "outputs": [],
   "source": [
    "!pip install seaborn"
   ]
  },
  {
   "cell_type": "code",
   "execution_count": 3,
   "metadata": {},
   "outputs": [],
   "source": [
    "%matplotlib inline\n",
    "\n",
    "from pathlib import Path\n",
    "\n",
    "import numpy as np\n",
    "import pandas as pd\n",
    "\n",
    "import matplotlib.pyplot as plt\n",
    "import seaborn as sns\n"
   ]
  },
  {
   "cell_type": "code",
   "execution_count": 4,
   "metadata": {},
   "outputs": [],
   "source": [
    "df_test = pd.read_csv('data/test_values.csv')\n",
    "df_train = pd.read_csv('data/train_values.csv')\n",
    "df_label = pd.read_csv('data/train_labels.csv')"
   ]
  },
  {
   "cell_type": "markdown",
   "metadata": {},
   "source": [
    "## 1. Details About our Training Data"
   ]
  },
  {
   "cell_type": "code",
   "execution_count": 7,
   "metadata": {},
   "outputs": [
    {
     "name": "stdout",
     "output_type": "stream",
     "text": [
      "(260601, 39)\n"
     ]
    }
   ],
   "source": [
    "print(df_train.shape)"
   ]
  },
  {
   "cell_type": "markdown",
   "metadata": {},
   "source": [
    "### 1.1 Initial look to data types and null values"
   ]
  },
  {
   "cell_type": "code",
   "execution_count": 11,
   "metadata": {},
   "outputs": [
    {
     "name": "stdout",
     "output_type": "stream",
     "text": [
      "                                       Data type  Unique values  Missing value\n",
      "building_id                                int64         260601              0\n",
      "geo_level_1_id                             int64             31              0\n",
      "geo_level_2_id                             int64           1414              0\n",
      "geo_level_3_id                             int64          11595              0\n",
      "count_floors_pre_eq                        int64              9              0\n",
      "age                                        int64             42              0\n",
      "area_percentage                            int64             84              0\n",
      "height_percentage                          int64             27              0\n",
      "land_surface_condition                    object              3              0\n",
      "foundation_type                           object              5              0\n",
      "roof_type                                 object              3              0\n",
      "ground_floor_type                         object              5              0\n",
      "other_floor_type                          object              4              0\n",
      "position                                  object              4              0\n",
      "plan_configuration                        object             10              0\n",
      "has_superstructure_adobe_mud               int64              2              0\n",
      "has_superstructure_mud_mortar_stone        int64              2              0\n",
      "has_superstructure_stone_flag              int64              2              0\n",
      "has_superstructure_cement_mortar_stone     int64              2              0\n",
      "has_superstructure_mud_mortar_brick        int64              2              0\n",
      "has_superstructure_cement_mortar_brick     int64              2              0\n",
      "has_superstructure_timber                  int64              2              0\n",
      "has_superstructure_bamboo                  int64              2              0\n",
      "has_superstructure_rc_non_engineered       int64              2              0\n",
      "has_superstructure_rc_engineered           int64              2              0\n",
      "has_superstructure_other                   int64              2              0\n",
      "legal_ownership_status                    object              4              0\n",
      "count_families                             int64             10              0\n",
      "has_secondary_use                          int64              2              0\n",
      "has_secondary_use_agriculture              int64              2              0\n",
      "has_secondary_use_hotel                    int64              2              0\n",
      "has_secondary_use_rental                   int64              2              0\n",
      "has_secondary_use_institution              int64              2              0\n",
      "has_secondary_use_school                   int64              2              0\n",
      "has_secondary_use_industry                 int64              2              0\n",
      "has_secondary_use_health_post              int64              2              0\n",
      "has_secondary_use_gov_office               int64              2              0\n",
      "has_secondary_use_use_police               int64              2              0\n",
      "has_secondary_use_other                    int64              2              0\n"
     ]
    }
   ],
   "source": [
    "df_train_summary = pd.DataFrame({\n",
    "    \"Data type\": df_train.dtypes,\n",
    "    \"Unique values\": df_train.nunique(),\n",
    "    \"Missing value\": df_train.isnull().sum()\n",
    "})\n",
    "print(df_train_summary)"
   ]
  },
  {
   "cell_type": "code",
   "execution_count": 14,
   "metadata": {},
   "outputs": [
    {
     "name": "stdout",
     "output_type": "stream",
     "text": [
      "building_id: [802906  28830  94947 ... 602512 151409 747594]\n",
      "\n",
      "geo_level_1_id: [ 6  8 21 22 11  9 20  0 26 17 12 18  4 27 25 10  7  3 13 30 16  5 15 14\n",
      " 19  1 24 28 23  2 29]\n",
      "\n",
      "geo_level_2_id: [487 900 363 ...  77 115 627]\n",
      "\n",
      "geo_level_3_id: [12198  2812  8973 ...  3152  5276  3085]\n",
      "\n",
      "count_floors_pre_eq: [2 3 1 4 5 6 7 8 9]\n",
      "\n",
      "age: [ 30  10  25   0  15  20  45  55   5  40  80  60  35  70  50  65 100  75\n",
      "  85 190 995 105  90 120  95 110 115 150 200 130 125 140 155 160 175 135\n",
      " 145 195 180 165 170 185]\n",
      "\n",
      "area_percentage: [  6   8   5   9   3  13   7   4  12  16  11  27  10  15  14  17  21  37\n",
      "  19   2  28  38  56   1  20  24  34  26  18  31  25  23  22  32  47  36\n",
      "  40  29  42  55  35  39 100  50  51  43  30  62  85  33  45  52  57  49\n",
      "  67  66  54  75  65  58  48  64  63  46  59  86  78  41  44  61  70  77\n",
      "  73  72  53  60  84  83  76  96  80  90  82  69]\n",
      "\n",
      "height_percentage: [ 5  7  9  4  6  3 10  8  2 32 12 11 13 16 15 18 26 17 19 14 20 23 21 25\n",
      " 24 28 31]\n",
      "\n",
      "land_surface_condition: ['t' 'o' 'n']\n",
      "\n",
      "foundation_type: ['r' 'w' 'i' 'u' 'h']\n",
      "\n",
      "roof_type: ['n' 'q' 'x']\n",
      "\n",
      "ground_floor_type: ['f' 'x' 'v' 'z' 'm']\n",
      "\n",
      "other_floor_type: ['q' 'x' 'j' 's']\n",
      "\n",
      "position: ['t' 's' 'j' 'o']\n",
      "\n",
      "plan_configuration: ['d' 'u' 's' 'q' 'm' 'c' 'a' 'n' 'f' 'o']\n",
      "\n",
      "has_superstructure_adobe_mud: [1 0]\n",
      "\n",
      "has_superstructure_mud_mortar_stone: [1 0]\n",
      "\n",
      "has_superstructure_stone_flag: [0 1]\n",
      "\n",
      "has_superstructure_cement_mortar_stone: [0 1]\n",
      "\n",
      "has_superstructure_mud_mortar_brick: [0 1]\n",
      "\n",
      "has_superstructure_cement_mortar_brick: [0 1]\n",
      "\n",
      "has_superstructure_timber: [0 1]\n",
      "\n",
      "has_superstructure_bamboo: [0 1]\n",
      "\n",
      "has_superstructure_rc_non_engineered: [0 1]\n",
      "\n",
      "has_superstructure_rc_engineered: [0 1]\n",
      "\n",
      "has_superstructure_other: [0 1]\n",
      "\n",
      "legal_ownership_status: ['v' 'a' 'r' 'w']\n",
      "\n",
      "count_families: [1 0 2 3 4 5 6 7 9 8]\n",
      "\n",
      "has_secondary_use: [0 1]\n",
      "\n",
      "has_secondary_use_agriculture: [0 1]\n",
      "\n",
      "has_secondary_use_hotel: [0 1]\n",
      "\n",
      "has_secondary_use_rental: [0 1]\n",
      "\n",
      "has_secondary_use_institution: [0 1]\n",
      "\n",
      "has_secondary_use_school: [0 1]\n",
      "\n",
      "has_secondary_use_industry: [0 1]\n",
      "\n",
      "has_secondary_use_health_post: [0 1]\n",
      "\n",
      "has_secondary_use_gov_office: [0 1]\n",
      "\n",
      "has_secondary_use_use_police: [0 1]\n",
      "\n",
      "has_secondary_use_other: [0 1]\n",
      "\n"
     ]
    }
   ],
   "source": [
    "# Get list of column labels\n",
    "column_names = df_train.columns\n",
    "\n",
    "# Loop through each column name and print unique values\n",
    "for col in column_names:\n",
    "    unique_values = df_train[col].unique()\n",
    "    print(f\"{col}: {unique_values}\\n\")\n"
   ]
  },
  {
   "cell_type": "code",
   "execution_count": null,
   "metadata": {},
   "outputs": [],
   "source": []
  }
 ],
 "metadata": {
  "kernelspec": {
   "display_name": "Python 3",
   "language": "python",
   "name": "python3"
  },
  "language_info": {
   "codemirror_mode": {
    "name": "ipython",
    "version": 3
   },
   "file_extension": ".py",
   "mimetype": "text/x-python",
   "name": "python",
   "nbconvert_exporter": "python",
   "pygments_lexer": "ipython3",
   "version": "3.11.5"
  },
  "orig_nbformat": 4
 },
 "nbformat": 4,
 "nbformat_minor": 2
}
